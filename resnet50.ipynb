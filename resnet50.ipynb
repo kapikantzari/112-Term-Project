{
  "nbformat": 4,
  "nbformat_minor": 0,
  "metadata": {
    "accelerator": "GPU",
    "colab": {
      "name": "resnet50.ipynb",
      "provenance": [],
      "collapsed_sections": [],
      "machine_shape": "hm",
      "include_colab_link": true
    },
    "kernelspec": {
      "display_name": "Environment (conda_tensorflow_p36)",
      "language": "python",
      "name": "conda_tensorflow_p36"
    },
    "language_info": {
      "codemirror_mode": {
        "name": "ipython",
        "version": 3
      },
      "file_extension": ".py",
      "mimetype": "text/x-python",
      "name": "python",
      "nbconvert_exporter": "python",
      "pygments_lexer": "ipython3",
      "version": "3.6.5"
    }
  },
  "cells": [
    {
      "cell_type": "markdown",
      "metadata": {
        "id": "view-in-github",
        "colab_type": "text"
      },
      "source": [
        "<a href=\"https://colab.research.google.com/github/kapikantzari/edge/blob/master/resnet50.ipynb\" target=\"_parent\"><img src=\"https://colab.research.google.com/assets/colab-badge.svg\" alt=\"Open In Colab\"/></a>"
      ]
    },
    {
      "cell_type": "code",
      "metadata": {
        "id": "gwdg7Sv3XBaP",
        "colab": {
          "base_uri": "https://localhost:8080/"
        },
        "outputId": "8f9e7511-bbe1-401a-9a6f-93e0f3ce2f11"
      },
      "source": [
        "%tensorflow_version 1.x\n",
        "!pip install keras-vggface\n",
        "!pip install scikit-image\n",
        "!pip install pydot"
      ],
      "execution_count": 1,
      "outputs": [
        {
          "output_type": "stream",
          "text": [
            "TensorFlow 1.x selected.\n",
            "Collecting keras-vggface\n",
            "  Downloading https://files.pythonhosted.org/packages/2f/7d/5f0319ebdc09ac1a2272364fa9583f5067b6f8aff93fbbf8835d81cbaad7/keras_vggface-0.6-py3-none-any.whl\n",
            "Requirement already satisfied: pyyaml in /usr/local/lib/python3.6/dist-packages (from keras-vggface) (3.13)\n",
            "Requirement already satisfied: scipy>=0.14 in /usr/local/lib/python3.6/dist-packages (from keras-vggface) (1.4.1)\n",
            "Requirement already satisfied: h5py in /usr/local/lib/python3.6/dist-packages (from keras-vggface) (2.10.0)\n",
            "Requirement already satisfied: numpy>=1.9.1 in /usr/local/lib/python3.6/dist-packages (from keras-vggface) (1.18.5)\n",
            "Requirement already satisfied: keras in /tensorflow-1.15.2/python3.6 (from keras-vggface) (2.3.1)\n",
            "Requirement already satisfied: pillow in /usr/local/lib/python3.6/dist-packages (from keras-vggface) (7.0.0)\n",
            "Requirement already satisfied: six>=1.9.0 in /usr/local/lib/python3.6/dist-packages (from keras-vggface) (1.15.0)\n",
            "Requirement already satisfied: keras-applications>=1.0.6 in /tensorflow-1.15.2/python3.6 (from keras->keras-vggface) (1.0.8)\n",
            "Requirement already satisfied: keras-preprocessing>=1.0.5 in /usr/local/lib/python3.6/dist-packages (from keras->keras-vggface) (1.1.2)\n",
            "Installing collected packages: keras-vggface\n",
            "Successfully installed keras-vggface-0.6\n",
            "Requirement already satisfied: scikit-image in /usr/local/lib/python3.6/dist-packages (0.16.2)\n",
            "Requirement already satisfied: networkx>=2.0 in /usr/local/lib/python3.6/dist-packages (from scikit-image) (2.5)\n",
            "Requirement already satisfied: matplotlib!=3.0.0,>=2.0.0 in /usr/local/lib/python3.6/dist-packages (from scikit-image) (3.2.2)\n",
            "Requirement already satisfied: pillow>=4.3.0 in /usr/local/lib/python3.6/dist-packages (from scikit-image) (7.0.0)\n",
            "Requirement already satisfied: scipy>=0.19.0 in /usr/local/lib/python3.6/dist-packages (from scikit-image) (1.4.1)\n",
            "Requirement already satisfied: imageio>=2.3.0 in /usr/local/lib/python3.6/dist-packages (from scikit-image) (2.4.1)\n",
            "Requirement already satisfied: PyWavelets>=0.4.0 in /usr/local/lib/python3.6/dist-packages (from scikit-image) (1.1.1)\n",
            "Requirement already satisfied: decorator>=4.3.0 in /usr/local/lib/python3.6/dist-packages (from networkx>=2.0->scikit-image) (4.4.2)\n",
            "Requirement already satisfied: cycler>=0.10 in /usr/local/lib/python3.6/dist-packages (from matplotlib!=3.0.0,>=2.0.0->scikit-image) (0.10.0)\n",
            "Requirement already satisfied: pyparsing!=2.0.4,!=2.1.2,!=2.1.6,>=2.0.1 in /usr/local/lib/python3.6/dist-packages (from matplotlib!=3.0.0,>=2.0.0->scikit-image) (2.4.7)\n",
            "Requirement already satisfied: numpy>=1.11 in /usr/local/lib/python3.6/dist-packages (from matplotlib!=3.0.0,>=2.0.0->scikit-image) (1.18.5)\n",
            "Requirement already satisfied: python-dateutil>=2.1 in /usr/local/lib/python3.6/dist-packages (from matplotlib!=3.0.0,>=2.0.0->scikit-image) (2.8.1)\n",
            "Requirement already satisfied: kiwisolver>=1.0.1 in /usr/local/lib/python3.6/dist-packages (from matplotlib!=3.0.0,>=2.0.0->scikit-image) (1.3.1)\n",
            "Requirement already satisfied: six in /usr/local/lib/python3.6/dist-packages (from cycler>=0.10->matplotlib!=3.0.0,>=2.0.0->scikit-image) (1.15.0)\n",
            "Requirement already satisfied: pydot in /usr/local/lib/python3.6/dist-packages (1.3.0)\n",
            "Requirement already satisfied: pyparsing>=2.1.4 in /usr/local/lib/python3.6/dist-packages (from pydot) (2.4.7)\n"
          ],
          "name": "stdout"
        }
      ]
    },
    {
      "cell_type": "code",
      "metadata": {
        "id": "1fZczU8lGkX-",
        "colab": {
          "base_uri": "https://localhost:8080/"
        },
        "outputId": "9bfbd95e-f346-4d9e-8172-8bbd6acb6fb9"
      },
      "source": [
        "from google.colab import drive\n",
        "drive.mount('/content/drive')"
      ],
      "execution_count": 3,
      "outputs": [
        {
          "output_type": "stream",
          "text": [
            "Mounted at /content/drive\n"
          ],
          "name": "stdout"
        }
      ]
    },
    {
      "cell_type": "code",
      "metadata": {
        "id": "tTf8IHlrITa2"
      },
      "source": [
        "! rm -rf train; mkdir train\n",
        "! unzip -q '/content/drive/My Drive/dataset2/train.zip' -d train\n",
        "! rm -rf test; mkdir test\n",
        "! unzip -q '/content/drive/My Drive/dataset2/test.zip' -d test"
      ],
      "execution_count": 8,
      "outputs": []
    },
    {
      "cell_type": "code",
      "metadata": {
        "id": "2nz38mJZXN_P",
        "colab": {
          "base_uri": "https://localhost:8080/"
        },
        "outputId": "90f84013-bd31-4cf1-f350-9135f6e423d4"
      },
      "source": [
        "import matplotlib.pyplot as plt\n",
        "import pandas as pd\n",
        "import numpy as np\n",
        "\n",
        "import tensorflow as tf\n",
        "from tensorflow.keras.layers import *\n",
        "from tensorflow.python.lib.io import file_io\n",
        "\n",
        "%matplotlib inline\n",
        "\n",
        "import keras\n",
        "from keras import backend as K\n",
        "from keras.callbacks import ModelCheckpoint, EarlyStopping\n",
        "from keras.models import load_model\n",
        "from keras.preprocessing.image import ImageDataGenerator\n",
        "from keras_vggface.vggface import VGGFace\n",
        "from keras.utils import plot_model\n",
        "from sklearn.metrics import *\n",
        "from keras.engine import Model\n",
        "from keras.layers import Input, Flatten, Dense, Activation, Conv2D, MaxPool2D, BatchNormalization, Dropout, MaxPooling2D\n",
        "import skimage\n",
        "from skimage.transform import rescale, resize\n",
        "\n",
        "import pydot"
      ],
      "execution_count": 2,
      "outputs": [
        {
          "output_type": "stream",
          "text": [
            "Using TensorFlow backend.\n"
          ],
          "name": "stderr"
        }
      ]
    },
    {
      "cell_type": "code",
      "metadata": {
        "id": "v60q28mDHnN9"
      },
      "source": [
        "EPOCHS = 50\n",
        "BS = 128\n",
        "DROPOUT_RATE = 0.5\n",
        "FROZEN_LAYER_NUM = 170\n",
        "\n",
        "ADAM_LEARNING_RATE = 0.001\n",
        "SGD_LEARNING_RATE = 0.01\n",
        "SGD_DECAY = 0.0001\n",
        "\n",
        "Resize_pixelsize = 197"
      ],
      "execution_count": 5,
      "outputs": []
    },
    {
      "cell_type": "code",
      "metadata": {
        "id": "itKZtFV0F7b1"
      },
      "source": [
        "vgg_notop = VGGFace(model='resnet50', include_top=False, input_shape=(Resize_pixelsize, Resize_pixelsize, 3), pooling='avg')\n",
        "last_layer = vgg_notop.get_layer('avg_pool').output\n",
        "x = Flatten(name='flatten')(last_layer)\n",
        "x = Dropout(DROPOUT_RATE)(x)\n",
        "x = Dense(4096, activation='relu', name='fc6')(x)\n",
        "x = Dropout(DROPOUT_RATE)(x)\n",
        "x = Dense(1024, activation='relu', name='fc7')(x)\n",
        "x = Dropout(DROPOUT_RATE)(x)\n",
        "    \n",
        "batch_norm_indices = [2, 6, 9, 13, 14, 18, 21, 24, 28, 31, 34, 38, 41, 45, 46, 53, 56, 60, 63, 66, 70, 73, 76, 80, 83, 87, 88, 92, 95, 98, 102, 105, 108, 112, 115, 118, 122, 125, 128, 132, 135, 138, 142, 145, 149, 150, 154, 157, 160, 164, 167, 170]\n",
        "for i in range(FROZEN_LAYER_NUM):\n",
        "    if i not in batch_norm_indices:\n",
        "        vgg_notop.layers[i].trainable = False\n",
        "out = Dense(7, activation='softmax', name='classifier')(x)\n",
        "\n",
        "model = Model(vgg_notop.input, out)\n",
        "\n",
        "cp_filepath='/content/drive/MyDrive/Colab Notebooks'\n",
        "optim = keras.optimizers.Adam(lr=ADAM_LEARNING_RATE, beta_1=0.9, beta_2=0.999, epsilon=1e-08, decay=0.0)\n",
        "sgd = keras.optimizers.SGD(lr=SGD_LEARNING_RATE, momentum=0.9, decay=SGD_DECAY, nesterov=True)\n",
        "rlrop = keras.callbacks.ReduceLROnPlateau(monitor='val_accuracy',mode='max',factor=0.5, patience=10, min_lr=0.00001, verbose=1)\n",
        "checkpoint = ModelCheckpoint(cp_filepath, monitor='val_accuracy', verbose=1, save_best_only=True, mode='max')\n",
        "\n",
        "model.compile(optimizer=sgd, loss='categorical_crossentropy', metrics=['accuracy'])"
      ],
      "execution_count": 28,
      "outputs": []
    },
    {
      "cell_type": "code",
      "metadata": {
        "id": "560jefnZ_Cyq"
      },
      "source": [
        "# def load_data(path):\n",
        "#         datagen = ImageDataGenerator(rescale=1./255)\n",
        "#         return datagen.flow_from_directory(\n",
        "#                 path,\n",
        "#                 target_size=(197, 197),\n",
        "#                 shuffle = True,\n",
        "#                 class_mode='categorical',\n",
        "#                 batch_size=BS)\n",
        "from tensorflow.keras.preprocessing.image import ImageDataGenerator\n",
        "\n",
        "def load_data(path, split=False):\n",
        "    if split:\n",
        "      datagen = ImageDataGenerator(rescale=1./255, validation_split=0.2)\n",
        "      return datagen.flow_from_directory(\n",
        "              path,\n",
        "              target_size=(197, 197),\n",
        "              shuffle = True,\n",
        "              class_mode='categorical',\n",
        "              batch_size=BS,\n",
        "              subset='training'), datagen.flow_from_directory(\n",
        "              path,\n",
        "              target_size=(197, 197),\n",
        "              shuffle = True,\n",
        "              class_mode='categorical',\n",
        "              batch_size=BS,\n",
        "              subset='validation')\n",
        "    else:\n",
        "      datagen = ImageDataGenerator(rescale=1./255)\n",
        "      return datagen.flow_from_directory(\n",
        "              path,\n",
        "              target_size=(197, 197),\n",
        "              shuffle = True,\n",
        "              class_mode='categorical',\n",
        "              batch_size=BS), None"
      ],
      "execution_count": 22,
      "outputs": []
    },
    {
      "cell_type": "code",
      "metadata": {
        "id": "4aQAGQP5_Gpl",
        "colab": {
          "base_uri": "https://localhost:8080/"
        },
        "outputId": "11126a4d-afc3-482f-e4e5-cb832aee2470"
      },
      "source": [
        "train_generator, validation_generator  = load_data('/content/train', True)\n",
        "test_generator, _  = load_data('/content/test')"
      ],
      "execution_count": 23,
      "outputs": [
        {
          "output_type": "stream",
          "text": [
            "Found 17631 images belonging to 7 classes.\n",
            "Found 4404 images belonging to 7 classes.\n",
            "Found 5512 images belonging to 7 classes.\n"
          ],
          "name": "stdout"
        }
      ]
    },
    {
      "cell_type": "code",
      "metadata": {
        "id": "pLISdlaStbUn",
        "colab": {
          "base_uri": "https://localhost:8080/"
        },
        "outputId": "f452f31b-8a68-4288-f04a-f120754a46ed"
      },
      "source": [
        "history = model.fit_generator(\n",
        "    generator = train_generator,\n",
        "    validation_data=validation_generator, \n",
        "    steps_per_epoch=17628 // BS,\n",
        "    validation_steps=4407 // BS,\n",
        "    shuffle=True,\n",
        "    epochs=100,\n",
        "    callbacks=[rlrop],\n",
        "    # use_multiprocessing=True,\n",
        ") "
      ],
      "execution_count": 29,
      "outputs": [
        {
          "output_type": "stream",
          "text": [
            "Epoch 1/100\n",
            "137/137 [==============================] - 77s 563ms/step - loss: 2.0994 - accuracy: 0.3258 - val_loss: 1.8620 - val_accuracy: 0.1829\n",
            "Epoch 2/100\n",
            "137/137 [==============================] - 72s 529ms/step - loss: 1.3968 - accuracy: 0.4743 - val_loss: 1.8858 - val_accuracy: 0.1826\n",
            "Epoch 3/100\n",
            "137/137 [==============================] - 72s 528ms/step - loss: 1.2821 - accuracy: 0.5221 - val_loss: 1.9872 - val_accuracy: 0.1859\n",
            "Epoch 4/100\n",
            "137/137 [==============================] - 72s 527ms/step - loss: 1.2062 - accuracy: 0.5569 - val_loss: 1.7014 - val_accuracy: 0.2685\n",
            "Epoch 5/100\n",
            "137/137 [==============================] - 72s 527ms/step - loss: 1.1565 - accuracy: 0.5688 - val_loss: 1.2706 - val_accuracy: 0.5061\n",
            "Epoch 6/100\n",
            "137/137 [==============================] - 72s 528ms/step - loss: 1.1197 - accuracy: 0.5885 - val_loss: 1.0663 - val_accuracy: 0.5898\n",
            "Epoch 7/100\n",
            "137/137 [==============================] - 72s 527ms/step - loss: 1.0814 - accuracy: 0.5973 - val_loss: 0.9861 - val_accuracy: 0.6123\n",
            "Epoch 8/100\n",
            "137/137 [==============================] - 72s 528ms/step - loss: 1.0578 - accuracy: 0.6074 - val_loss: 1.0140 - val_accuracy: 0.6370\n",
            "Epoch 9/100\n",
            "137/137 [==============================] - 72s 527ms/step - loss: 1.0239 - accuracy: 0.6181 - val_loss: 0.9449 - val_accuracy: 0.6434\n",
            "Epoch 10/100\n",
            "137/137 [==============================] - 72s 527ms/step - loss: 1.0022 - accuracy: 0.6259 - val_loss: 1.0146 - val_accuracy: 0.6415\n",
            "Epoch 11/100\n",
            "137/137 [==============================] - 72s 527ms/step - loss: 0.9754 - accuracy: 0.6324 - val_loss: 0.9439 - val_accuracy: 0.6387\n",
            "Epoch 12/100\n",
            "137/137 [==============================] - 72s 527ms/step - loss: 0.9609 - accuracy: 0.6387 - val_loss: 0.9389 - val_accuracy: 0.6572\n",
            "Epoch 13/100\n",
            "137/137 [==============================] - 72s 527ms/step - loss: 0.9331 - accuracy: 0.6526 - val_loss: 0.9241 - val_accuracy: 0.6476\n",
            "Epoch 14/100\n",
            "137/137 [==============================] - 72s 527ms/step - loss: 0.9280 - accuracy: 0.6539 - val_loss: 1.0274 - val_accuracy: 0.6511\n",
            "Epoch 15/100\n",
            "137/137 [==============================] - 72s 527ms/step - loss: 0.9047 - accuracy: 0.6595 - val_loss: 0.9487 - val_accuracy: 0.6700\n",
            "Epoch 16/100\n",
            "137/137 [==============================] - 72s 527ms/step - loss: 0.8872 - accuracy: 0.6687 - val_loss: 0.8922 - val_accuracy: 0.6513\n",
            "Epoch 17/100\n",
            "137/137 [==============================] - 72s 528ms/step - loss: 0.8666 - accuracy: 0.6738 - val_loss: 0.8708 - val_accuracy: 0.6658\n",
            "Epoch 18/100\n",
            "137/137 [==============================] - 72s 527ms/step - loss: 0.8416 - accuracy: 0.6865 - val_loss: 1.1261 - val_accuracy: 0.6681\n",
            "Epoch 19/100\n",
            "137/137 [==============================] - 72s 526ms/step - loss: 0.8282 - accuracy: 0.6918 - val_loss: 1.0048 - val_accuracy: 0.6644\n",
            "Epoch 20/100\n",
            "137/137 [==============================] - 72s 527ms/step - loss: 0.8249 - accuracy: 0.6929 - val_loss: 0.9779 - val_accuracy: 0.6681\n",
            "Epoch 21/100\n",
            "137/137 [==============================] - 72s 527ms/step - loss: 0.8040 - accuracy: 0.6961 - val_loss: 0.8965 - val_accuracy: 0.6677\n",
            "Epoch 22/100\n",
            "137/137 [==============================] - 72s 527ms/step - loss: 0.7952 - accuracy: 0.7015 - val_loss: 0.8292 - val_accuracy: 0.6721\n",
            "Epoch 23/100\n",
            "137/137 [==============================] - 72s 527ms/step - loss: 0.7695 - accuracy: 0.7091 - val_loss: 0.8791 - val_accuracy: 0.6759\n",
            "Epoch 24/100\n",
            "137/137 [==============================] - 72s 527ms/step - loss: 0.7551 - accuracy: 0.7141 - val_loss: 0.9669 - val_accuracy: 0.6667\n",
            "Epoch 25/100\n",
            "137/137 [==============================] - 72s 526ms/step - loss: 0.7455 - accuracy: 0.7188 - val_loss: 1.0070 - val_accuracy: 0.6735\n",
            "Epoch 26/100\n",
            "137/137 [==============================] - 72s 528ms/step - loss: 0.7356 - accuracy: 0.7231 - val_loss: 0.8210 - val_accuracy: 0.6770\n",
            "Epoch 27/100\n",
            "137/137 [==============================] - 72s 527ms/step - loss: 0.7181 - accuracy: 0.7251 - val_loss: 0.9388 - val_accuracy: 0.6841\n",
            "Epoch 28/100\n",
            "137/137 [==============================] - 72s 527ms/step - loss: 0.7075 - accuracy: 0.7326 - val_loss: 0.9513 - val_accuracy: 0.6770\n",
            "Epoch 29/100\n",
            "137/137 [==============================] - 72s 527ms/step - loss: 0.6911 - accuracy: 0.7384 - val_loss: 0.8548 - val_accuracy: 0.6789\n",
            "Epoch 30/100\n",
            "137/137 [==============================] - 72s 527ms/step - loss: 0.6803 - accuracy: 0.7433 - val_loss: 0.9545 - val_accuracy: 0.6817\n",
            "Epoch 31/100\n",
            "137/137 [==============================] - 72s 527ms/step - loss: 0.6563 - accuracy: 0.7538 - val_loss: 0.8875 - val_accuracy: 0.6775\n",
            "Epoch 32/100\n",
            "137/137 [==============================] - 72s 527ms/step - loss: 0.6493 - accuracy: 0.7520 - val_loss: 0.9912 - val_accuracy: 0.6815\n",
            "Epoch 33/100\n",
            "137/137 [==============================] - 72s 527ms/step - loss: 0.6427 - accuracy: 0.7546 - val_loss: 0.9381 - val_accuracy: 0.6829\n",
            "Epoch 34/100\n",
            "137/137 [==============================] - 72s 527ms/step - loss: 0.6191 - accuracy: 0.7648 - val_loss: 0.8838 - val_accuracy: 0.6899\n",
            "Epoch 35/100\n",
            "137/137 [==============================] - 72s 527ms/step - loss: 0.6211 - accuracy: 0.7676 - val_loss: 0.8701 - val_accuracy: 0.6894\n",
            "Epoch 36/100\n",
            "137/137 [==============================] - 72s 528ms/step - loss: 0.6089 - accuracy: 0.7717 - val_loss: 0.8833 - val_accuracy: 0.6868\n",
            "Epoch 37/100\n",
            "137/137 [==============================] - 72s 528ms/step - loss: 0.5768 - accuracy: 0.7838 - val_loss: 0.8738 - val_accuracy: 0.6936\n",
            "Epoch 38/100\n",
            "137/137 [==============================] - 72s 527ms/step - loss: 0.5755 - accuracy: 0.7844 - val_loss: 0.9372 - val_accuracy: 0.6862\n",
            "Epoch 39/100\n",
            "137/137 [==============================] - 72s 528ms/step - loss: 0.5481 - accuracy: 0.7931 - val_loss: 0.9361 - val_accuracy: 0.6857\n",
            "Epoch 40/100\n",
            "137/137 [==============================] - 72s 527ms/step - loss: 0.5563 - accuracy: 0.7892 - val_loss: 0.7159 - val_accuracy: 0.6920\n",
            "Epoch 41/100\n",
            "137/137 [==============================] - 72s 528ms/step - loss: 0.5342 - accuracy: 0.8003 - val_loss: 0.9582 - val_accuracy: 0.6855\n",
            "Epoch 42/100\n",
            "137/137 [==============================] - 72s 527ms/step - loss: 0.5253 - accuracy: 0.8008 - val_loss: 0.7866 - val_accuracy: 0.6880\n",
            "Epoch 43/100\n",
            "137/137 [==============================] - 72s 528ms/step - loss: 0.5207 - accuracy: 0.8046 - val_loss: 0.8051 - val_accuracy: 0.6913\n",
            "Epoch 44/100\n",
            "137/137 [==============================] - 72s 526ms/step - loss: 0.5013 - accuracy: 0.8152 - val_loss: 0.8838 - val_accuracy: 0.6929\n",
            "Epoch 45/100\n",
            "137/137 [==============================] - 72s 527ms/step - loss: 0.5008 - accuracy: 0.8103 - val_loss: 0.9546 - val_accuracy: 0.6899\n",
            "Epoch 46/100\n",
            "137/137 [==============================] - 72s 527ms/step - loss: 0.4744 - accuracy: 0.8239 - val_loss: 0.7845 - val_accuracy: 0.6911\n",
            "Epoch 47/100\n",
            "137/137 [==============================] - 72s 527ms/step - loss: 0.4696 - accuracy: 0.8222 - val_loss: 0.8526 - val_accuracy: 0.7000\n",
            "Epoch 48/100\n",
            "137/137 [==============================] - 72s 526ms/step - loss: 0.4627 - accuracy: 0.8263 - val_loss: 0.7154 - val_accuracy: 0.7028\n",
            "Epoch 49/100\n",
            "137/137 [==============================] - 72s 526ms/step - loss: 0.4442 - accuracy: 0.8358 - val_loss: 0.9189 - val_accuracy: 0.6763\n",
            "Epoch 50/100\n",
            "137/137 [==============================] - 72s 528ms/step - loss: 0.4415 - accuracy: 0.8386 - val_loss: 0.8241 - val_accuracy: 0.7042\n",
            "Epoch 51/100\n",
            "137/137 [==============================] - 72s 527ms/step - loss: 0.4311 - accuracy: 0.8391 - val_loss: 0.8826 - val_accuracy: 0.6960\n",
            "Epoch 52/100\n",
            "137/137 [==============================] - 72s 526ms/step - loss: 0.4245 - accuracy: 0.8449 - val_loss: 0.8707 - val_accuracy: 0.7014\n",
            "Epoch 53/100\n",
            "137/137 [==============================] - 72s 528ms/step - loss: 0.4179 - accuracy: 0.8452 - val_loss: 1.0783 - val_accuracy: 0.6855\n",
            "Epoch 54/100\n",
            "137/137 [==============================] - 72s 527ms/step - loss: 0.4040 - accuracy: 0.8478 - val_loss: 0.8980 - val_accuracy: 0.6967\n",
            "Epoch 55/100\n",
            "137/137 [==============================] - 72s 527ms/step - loss: 0.4027 - accuracy: 0.8502 - val_loss: 0.7363 - val_accuracy: 0.6929\n",
            "Epoch 56/100\n",
            "137/137 [==============================] - 72s 527ms/step - loss: 0.3915 - accuracy: 0.8563 - val_loss: 0.9062 - val_accuracy: 0.6878\n",
            "Epoch 57/100\n",
            "137/137 [==============================] - 72s 526ms/step - loss: 0.3815 - accuracy: 0.8577 - val_loss: 1.0313 - val_accuracy: 0.7004\n",
            "Epoch 58/100\n",
            "137/137 [==============================] - 72s 527ms/step - loss: 0.3761 - accuracy: 0.8610 - val_loss: 1.1111 - val_accuracy: 0.6899\n",
            "Epoch 59/100\n",
            "137/137 [==============================] - 72s 527ms/step - loss: 0.3782 - accuracy: 0.8612 - val_loss: 0.7883 - val_accuracy: 0.7053\n",
            "Epoch 60/100\n",
            "137/137 [==============================] - 72s 527ms/step - loss: 0.3635 - accuracy: 0.8644 - val_loss: 0.8949 - val_accuracy: 0.6897\n",
            "Epoch 61/100\n",
            "137/137 [==============================] - 72s 527ms/step - loss: 0.3506 - accuracy: 0.8706 - val_loss: 0.8392 - val_accuracy: 0.6920\n",
            "Epoch 62/100\n",
            "137/137 [==============================] - 72s 527ms/step - loss: 0.3365 - accuracy: 0.8745 - val_loss: 1.0006 - val_accuracy: 0.6997\n",
            "Epoch 63/100\n",
            "137/137 [==============================] - 72s 528ms/step - loss: 0.3361 - accuracy: 0.8773 - val_loss: 0.8806 - val_accuracy: 0.6869\n",
            "Epoch 64/100\n",
            "137/137 [==============================] - 72s 527ms/step - loss: 0.3302 - accuracy: 0.8794 - val_loss: 0.9977 - val_accuracy: 0.6960\n",
            "Epoch 65/100\n",
            "137/137 [==============================] - 72s 526ms/step - loss: 0.3290 - accuracy: 0.8793 - val_loss: 0.9365 - val_accuracy: 0.6920\n",
            "Epoch 66/100\n",
            "137/137 [==============================] - 72s 528ms/step - loss: 0.3197 - accuracy: 0.8828 - val_loss: 0.8290 - val_accuracy: 0.6941\n",
            "Epoch 67/100\n",
            "137/137 [==============================] - 72s 527ms/step - loss: 0.3055 - accuracy: 0.8896 - val_loss: 1.0427 - val_accuracy: 0.6943\n",
            "Epoch 68/100\n",
            "137/137 [==============================] - 72s 527ms/step - loss: 0.3078 - accuracy: 0.8888 - val_loss: 0.9719 - val_accuracy: 0.6946\n",
            "Epoch 69/100\n",
            "137/137 [==============================] - 72s 526ms/step - loss: 0.2877 - accuracy: 0.8942 - val_loss: 1.4372 - val_accuracy: 0.6974\n",
            "\n",
            "Epoch 00069: ReduceLROnPlateau reducing learning rate to 0.004999999888241291.\n",
            "Epoch 70/100\n",
            "137/137 [==============================] - 72s 528ms/step - loss: 0.2824 - accuracy: 0.8965 - val_loss: 1.3068 - val_accuracy: 0.7002\n",
            "Epoch 71/100\n",
            "137/137 [==============================] - 72s 527ms/step - loss: 0.2769 - accuracy: 0.9001 - val_loss: 1.0624 - val_accuracy: 0.6983\n",
            "Epoch 72/100\n",
            "137/137 [==============================] - 72s 527ms/step - loss: 0.2626 - accuracy: 0.9046 - val_loss: 0.9504 - val_accuracy: 0.7011\n",
            "Epoch 73/100\n",
            "137/137 [==============================] - 72s 527ms/step - loss: 0.2640 - accuracy: 0.9044 - val_loss: 1.0095 - val_accuracy: 0.6964\n",
            "Epoch 74/100\n",
            "137/137 [==============================] - 72s 527ms/step - loss: 0.2548 - accuracy: 0.9072 - val_loss: 1.1290 - val_accuracy: 0.6981\n",
            "Epoch 75/100\n",
            "137/137 [==============================] - 72s 527ms/step - loss: 0.2507 - accuracy: 0.9101 - val_loss: 0.9514 - val_accuracy: 0.6957\n",
            "Epoch 76/100\n",
            "137/137 [==============================] - 72s 528ms/step - loss: 0.2578 - accuracy: 0.9072 - val_loss: 1.0284 - val_accuracy: 0.6936\n",
            "Epoch 77/100\n",
            "137/137 [==============================] - 72s 528ms/step - loss: 0.2555 - accuracy: 0.9073 - val_loss: 0.9781 - val_accuracy: 0.6904\n",
            "Epoch 78/100\n",
            "137/137 [==============================] - 72s 526ms/step - loss: 0.2384 - accuracy: 0.9139 - val_loss: 1.1183 - val_accuracy: 0.6976\n",
            "Epoch 79/100\n",
            "137/137 [==============================] - 72s 527ms/step - loss: 0.2375 - accuracy: 0.9128 - val_loss: 1.0973 - val_accuracy: 0.7014\n",
            "\n",
            "Epoch 00079: ReduceLROnPlateau reducing learning rate to 0.0024999999441206455.\n",
            "Epoch 80/100\n",
            "137/137 [==============================] - 72s 527ms/step - loss: 0.2398 - accuracy: 0.9135 - val_loss: 0.7082 - val_accuracy: 0.7065\n",
            "Epoch 81/100\n",
            "137/137 [==============================] - 72s 528ms/step - loss: 0.2395 - accuracy: 0.9134 - val_loss: 0.8973 - val_accuracy: 0.6939\n",
            "Epoch 82/100\n",
            "137/137 [==============================] - 72s 528ms/step - loss: 0.2244 - accuracy: 0.9162 - val_loss: 1.0813 - val_accuracy: 0.6932\n",
            "Epoch 83/100\n",
            "137/137 [==============================] - 72s 526ms/step - loss: 0.2201 - accuracy: 0.9241 - val_loss: 1.2364 - val_accuracy: 0.6962\n",
            "Epoch 84/100\n",
            "137/137 [==============================] - 72s 526ms/step - loss: 0.2236 - accuracy: 0.9202 - val_loss: 1.3437 - val_accuracy: 0.6953\n",
            "Epoch 85/100\n",
            "137/137 [==============================] - 72s 526ms/step - loss: 0.2237 - accuracy: 0.9180 - val_loss: 0.7775 - val_accuracy: 0.7060\n",
            "Epoch 86/100\n",
            "137/137 [==============================] - 72s 526ms/step - loss: 0.2201 - accuracy: 0.9220 - val_loss: 0.9370 - val_accuracy: 0.7032\n",
            "Epoch 87/100\n",
            "137/137 [==============================] - 72s 526ms/step - loss: 0.2177 - accuracy: 0.9229 - val_loss: 1.1505 - val_accuracy: 0.6957\n",
            "Epoch 88/100\n",
            "137/137 [==============================] - 72s 526ms/step - loss: 0.2099 - accuracy: 0.9234 - val_loss: 1.2169 - val_accuracy: 0.6971\n",
            "Epoch 89/100\n",
            "137/137 [==============================] - 72s 528ms/step - loss: 0.2148 - accuracy: 0.9220 - val_loss: 0.8897 - val_accuracy: 0.6976\n",
            "Epoch 90/100\n",
            "137/137 [==============================] - 72s 527ms/step - loss: 0.2206 - accuracy: 0.9188 - val_loss: 0.7408 - val_accuracy: 0.6897\n",
            "\n",
            "Epoch 00090: ReduceLROnPlateau reducing learning rate to 0.0012499999720603228.\n",
            "Epoch 91/100\n",
            "137/137 [==============================] - 72s 526ms/step - loss: 0.2060 - accuracy: 0.9254 - val_loss: 1.0595 - val_accuracy: 0.6953\n",
            "Epoch 92/100\n",
            "137/137 [==============================] - 72s 527ms/step - loss: 0.2207 - accuracy: 0.9210 - val_loss: 1.3320 - val_accuracy: 0.6976\n",
            "Epoch 93/100\n",
            "137/137 [==============================] - 72s 527ms/step - loss: 0.2071 - accuracy: 0.9256 - val_loss: 0.7802 - val_accuracy: 0.6967\n",
            "Epoch 94/100\n",
            "137/137 [==============================] - 72s 526ms/step - loss: 0.2077 - accuracy: 0.9251 - val_loss: 0.9548 - val_accuracy: 0.6957\n",
            "Epoch 95/100\n",
            "137/137 [==============================] - 72s 526ms/step - loss: 0.2055 - accuracy: 0.9284 - val_loss: 1.0029 - val_accuracy: 0.7021\n",
            "Epoch 96/100\n",
            "137/137 [==============================] - 72s 528ms/step - loss: 0.2052 - accuracy: 0.9247 - val_loss: 0.8996 - val_accuracy: 0.6974\n",
            "Epoch 97/100\n",
            "137/137 [==============================] - 72s 525ms/step - loss: 0.2104 - accuracy: 0.9235 - val_loss: 1.1273 - val_accuracy: 0.6995\n",
            "Epoch 98/100\n",
            "137/137 [==============================] - 72s 527ms/step - loss: 0.2070 - accuracy: 0.9253 - val_loss: 1.2291 - val_accuracy: 0.6990\n",
            "Epoch 99/100\n",
            "137/137 [==============================] - 72s 528ms/step - loss: 0.2054 - accuracy: 0.9257 - val_loss: 1.1893 - val_accuracy: 0.6927\n",
            "Epoch 100/100\n",
            "137/137 [==============================] - 72s 525ms/step - loss: 0.2096 - accuracy: 0.9255 - val_loss: 1.0080 - val_accuracy: 0.6990\n",
            "\n",
            "Epoch 00100: ReduceLROnPlateau reducing learning rate to 0.0006249999860301614.\n"
          ],
          "name": "stdout"
        }
      ]
    },
    {
      "cell_type": "code",
      "metadata": {
        "id": "JSSv08SHF0bC",
        "colab": {
          "base_uri": "https://localhost:8080/"
        },
        "outputId": "958815ad-1baa-4cbd-e93a-7756ddd923de"
      },
      "source": [
        "print('\\n# Evaluate on validation data')\n",
        "results_validation = model.evaluate_generator(validation_generator, 4407 // BS)\n",
        "print('validation loss, validation acc:', results_validation)"
      ],
      "execution_count": 30,
      "outputs": [
        {
          "output_type": "stream",
          "text": [
            "\n",
            "# Evaluate on validation data\n",
            "validation loss, validation acc: [1.2026081085205078, 0.6964613795280457]\n"
          ],
          "name": "stdout"
        }
      ]
    },
    {
      "cell_type": "code",
      "metadata": {
        "id": "Ev4sDYDlOsqk",
        "colab": {
          "base_uri": "https://localhost:8080/"
        },
        "outputId": "b9395839-ab40-4dd7-d011-38313e2227d5"
      },
      "source": [
        "print('\\n# Evaluate on test data')\n",
        "results_test = model.evaluate_generator(test_generator, 5512 // BS)\n",
        "print('test loss, test acc:', results_test)"
      ],
      "execution_count": 31,
      "outputs": [
        {
          "output_type": "stream",
          "text": [
            "\n",
            "# Evaluate on test data\n",
            "test loss, test acc: [0.7718971967697144, 0.6889534592628479]\n"
          ],
          "name": "stdout"
        }
      ]
    },
    {
      "cell_type": "code",
      "metadata": {
        "id": "m9f7smhHUQus",
        "colab": {
          "base_uri": "https://localhost:8080/",
          "height": 590
        },
        "outputId": "2d9fb045-afc2-428d-d611-368806d6ef06"
      },
      "source": [
        "# list all data in history\n",
        "print(history.history.keys())\n",
        "# summarize history for accuracy\n",
        "plt.plot(history.history['accuracy'])\n",
        "plt.plot(history.history['val_accuracy'])\n",
        "plt.title('model accuracy')\n",
        "plt.ylabel('accuracy')\n",
        "plt.xlabel('epoch')\n",
        "plt.legend(['train', 'validation'])\n",
        "plt.show()\n",
        "# summarize history for loss\n",
        "plt.plot(history.history['loss'])\n",
        "plt.plot(history.history['val_loss'])\n",
        "plt.title('model loss')\n",
        "plt.ylabel('loss')\n",
        "plt.xlabel('epoch')\n",
        "plt.legend(['train', 'validation'])\n",
        "plt.show()"
      ],
      "execution_count": 32,
      "outputs": [
        {
          "output_type": "stream",
          "text": [
            "dict_keys(['val_loss', 'val_accuracy', 'loss', 'accuracy', 'lr'])\n"
          ],
          "name": "stdout"
        },
        {
          "output_type": "display_data",
          "data": {
            "image/png": "[encoded data removed]",
            "text/plain": [
              "<Figure size 432x288 with 1 Axes>"
            ]
          },
          "metadata": {
            "tags": [],
            "needs_background": "light"
          }
        },
        {
          "output_type": "display_data",
          "data": {
            "image/png": "[encoded data removed]",
            "text/plain": [
              "<Figure size 432x288 with 1 Axes>"
            ]
          },
          "metadata": {
            "tags": [],
            "needs_background": "light"
          }
        }
      ]
    },
    {
      "cell_type": "code",
      "metadata": {
        "id": "F-QKHTmJQhi1"
      },
      "source": [
        "epoch_str = '-EPOCHS_' + str(EPOCHS)\n",
        "test_acc = 'test_acc_%.3f' % results_test[1]\n",
        "model.save('/content/drive/My Drive/Colab Notebooks/' + 'RESNET50' + epoch_str + test_acc + '.h5')"
      ],
      "execution_count": 38,
      "outputs": []
    },
    {
      "cell_type": "code",
      "metadata": {
        "id": "yJceV2fuFEfQ"
      },
      "source": [
        ""
      ],
      "execution_count": null,
      "outputs": []
    }
  ]
}